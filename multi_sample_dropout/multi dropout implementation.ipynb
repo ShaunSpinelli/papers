{
 "cells": [
  {
   "cell_type": "code",
   "execution_count": 1,
   "metadata": {},
   "outputs": [],
   "source": [
    "import os\n",
    "import torch\n",
    "import torch.nn as nn\n",
    "import torch.nn.functional as F\n",
    "import numpy as np\n",
    "import torchvision\n",
    "import torchvision.transforms as transforms"
   ]
  },
  {
   "cell_type": "code",
   "execution_count": 2,
   "metadata": {},
   "outputs": [],
   "source": [
    "from tqdm import tnrange, tqdm_notebook"
   ]
  },
  {
   "cell_type": "code",
   "execution_count": 3,
   "metadata": {},
   "outputs": [],
   "source": [
    "torch.manual_seed(0)\n",
    "np.random.seed(0)"
   ]
  },
  {
   "cell_type": "code",
   "execution_count": 4,
   "metadata": {},
   "outputs": [],
   "source": [
    "PATH =\"/home/shaun/data/personal/\""
   ]
  },
  {
   "cell_type": "code",
   "execution_count": 5,
   "metadata": {},
   "outputs": [
    {
     "data": {
      "text/plain": [
       "True"
      ]
     },
     "execution_count": 5,
     "metadata": {},
     "output_type": "execute_result"
    }
   ],
   "source": [
    "torch.cuda.is_available()"
   ]
  },
  {
   "cell_type": "markdown",
   "metadata": {},
   "source": [
    "## Model Definition"
   ]
  },
  {
   "cell_type": "code",
   "execution_count": 6,
   "metadata": {},
   "outputs": [],
   "source": [
    "class ConvLayer(nn.Module):\n",
    "    \"\"\"Convolution layer\n",
    "\n",
    "    Arguments:\n",
    "        in_channels (int): input channels\n",
    "        out_channels (int): output channels\n",
    "\n",
    "    \"\"\"\n",
    "    def __init__(self, in_channels, out_channels, pool=False):\n",
    "        super().__init__()\n",
    "        self.conv = nn.Conv2d(in_channels, out_channels, kernel_size=3, stride=1, padding=1)\n",
    "        self.batch_norm = nn.BatchNorm2d(out_channels)\n",
    "        self.do_pool = pool\n",
    "        if pool: self.pool = nn.MaxPool2d(2)\n",
    "\n",
    "    def forward(self, x):\n",
    "        x = self.conv(x)\n",
    "        if self.do_pool: x = self.pool(x)\n",
    "        x = self.batch_norm(x)\n",
    "        return F.relu(x)"
   ]
  },
  {
   "cell_type": "code",
   "execution_count": 7,
   "metadata": {},
   "outputs": [],
   "source": [
    "class Flatten(nn.Module):\n",
    "    def forward(self, input):\n",
    "        return input.view(input.size(0), -1)"
   ]
  },
  {
   "cell_type": "code",
   "execution_count": 190,
   "metadata": {},
   "outputs": [],
   "source": [
    "class CNN(nn.Module):\n",
    "    def __init__(self, samples=1):\n",
    "        super().__init__()\n",
    "        self.samples = samples\n",
    "        self.conv1 = ConvLayer(3,64)\n",
    "        self.conv2 = ConvLayer(64,96, pool=True)\n",
    "        self.conv3 = ConvLayer(96,96)\n",
    "        self.conv4 = ConvLayer(96,128, pool=True)\n",
    "        self.conv5 = ConvLayer(128,128)\n",
    "        self.conv6 = ConvLayer(128,192, pool=True)\n",
    "        self.pool = nn.MaxPool2d(2)\n",
    "        self.flatten = Flatten()\n",
    "        self.fc1 = nn.Linear(3072,512)\n",
    "        self.dropout1 = nn.Dropout(p=0.4)\n",
    "        self.dropout2 = nn.Dropout(p=0.3)\n",
    "        self.fc2 = nn.Linear(512,10)\n",
    "        self.out_put = []\n",
    "        \n",
    "    def forward(self, x):\n",
    "        x = self.conv1(x)\n",
    "#         print(\"Shape 1 flatt\", x.shape)\n",
    "        x = self.conv2(x)\n",
    "#         print(\"Shape 2 flatt\", x.shape)\n",
    "        x = self.conv3(x)\n",
    "#         print(\"Shape 3 flatt\", x.shape)\n",
    "        x = self.conv4(x)\n",
    "#         print(\"Shape 4 flatt\", x.shape)\n",
    "        x = self.conv5(x)\n",
    "#         print(\"Shape 5 flatt\", x.shape)\n",
    "        x = self.conv6(x)\n",
    "        if not self.training: #perform flip and multisample drop\n",
    "            self.samples = 1\n",
    "        for i in range(self.samples):\n",
    "#             print(\"Shape before flatt\", x.shape)\n",
    "            x1 = self.flatten(x)\n",
    "#             print(\"Shape after flatt\", x.shape)\n",
    "            x1 = self.dropout1(x1)\n",
    "            x1 = self.fc1(x1)\n",
    "            x1 = self.dropout2(x1)\n",
    "            x1 = self.fc2(x1) \n",
    "            self.out_put.append(x1)\n",
    "        \n",
    "        return self.out_put\n",
    "                 \n",
    "                 \n",
    "                 \n",
    "    "
   ]
  },
  {
   "cell_type": "markdown",
   "metadata": {},
   "source": [
    "[custom loss](https://discuss.pytorch.org/t/runtimeerror-trying-to-backward-through-the-graph-a-second-time-but-the-buffers-have-already-been-freed-specify-retain-graph-true-when-calling-backward-the-first-time-while-using-custom-loss-function/12360/2)"
   ]
  },
  {
   "cell_type": "code",
   "execution_count": 191,
   "metadata": {},
   "outputs": [],
   "source": [
    "def MultiSampleLoss(input, target):\n",
    "    total = 0\n",
    "    for sample in input:\n",
    "        total += F.cross_entropy(sample, target)\n",
    "    return total/len(sample)"
   ]
  },
  {
   "cell_type": "code",
   "execution_count": 8,
   "metadata": {},
   "outputs": [],
   "source": [
    "model = nn.Sequential(\n",
    "    ConvLayer(3,64),\n",
    "    ConvLayer(64,96, pool=True),\n",
    "    ConvLayer(96,96),\n",
    "    ConvLayer(96,128, pool=True),\n",
    "    ConvLayer(128,128),\n",
    "    ConvLayer(128,192, pool=True),\n",
    "    Flatten(),\n",
    "    nn.Linear(3072,512),\n",
    "    nn.Dropout(p=0.5),\n",
    "    nn.Linear(512,10),\n",
    ")"
   ]
  },
  {
   "cell_type": "code",
   "execution_count": 205,
   "metadata": {},
   "outputs": [],
   "source": [
    "# Might be a better way to do thiseg: pass model to fir function the pass parts to train_epoch ?\n",
    "# pre_drop_model = model[:8]\n",
    "# end_model = model[8:]"
   ]
  },
  {
   "cell_type": "markdown",
   "metadata": {},
   "source": [
    "## Data"
   ]
  },
  {
   "cell_type": "code",
   "execution_count": 9,
   "metadata": {},
   "outputs": [],
   "source": [
    "bs = 100"
   ]
  },
  {
   "cell_type": "code",
   "execution_count": 10,
   "metadata": {},
   "outputs": [],
   "source": [
    "transform = transforms.Compose(\n",
    "    [transforms.ToTensor(),\n",
    "     transforms.Normalize((0.5, 0.5, 0.5), (0.5, 0.5, 0.5))])"
   ]
  },
  {
   "cell_type": "code",
   "execution_count": 11,
   "metadata": {},
   "outputs": [
    {
     "name": "stdout",
     "output_type": "stream",
     "text": [
      "Files already downloaded and verified\n"
     ]
    }
   ],
   "source": [
    "trainset = torchvision.datasets.CIFAR10(root=PATH,train=True,\n",
    "                                        download=True, transform=transform)\n",
    "trainloader = torch.utils.data.DataLoader(trainset, batch_size=bs,\n",
    "                                          shuffle=True, num_workers=2)\n"
   ]
  },
  {
   "cell_type": "code",
   "execution_count": 12,
   "metadata": {},
   "outputs": [
    {
     "name": "stdout",
     "output_type": "stream",
     "text": [
      "Files already downloaded and verified\n"
     ]
    }
   ],
   "source": [
    "testset = torchvision.datasets.CIFAR10(root=PATH,train=False,\n",
    "                                       download=True, transform=transform)\n",
    "testloader = torch.utils.data.DataLoader(testset, batch_size=4,\n",
    "                                         shuffle=False, num_workers=2)\n"
   ]
  },
  {
   "cell_type": "code",
   "execution_count": 13,
   "metadata": {},
   "outputs": [],
   "source": [
    "classes = ('plane', 'car', 'bird', 'cat','deer', 'dog', 'frog', 'horse', 'ship', 'truck')"
   ]
  },
  {
   "cell_type": "markdown",
   "metadata": {},
   "source": [
    "### View Data"
   ]
  },
  {
   "cell_type": "code",
   "execution_count": 14,
   "metadata": {},
   "outputs": [],
   "source": [
    "import matplotlib.pyplot as plt\n",
    "import numpy as np"
   ]
  },
  {
   "cell_type": "code",
   "execution_count": 15,
   "metadata": {},
   "outputs": [],
   "source": [
    "%matplotlib inline"
   ]
  },
  {
   "cell_type": "code",
   "execution_count": 16,
   "metadata": {},
   "outputs": [],
   "source": [
    "def imshow(img):\n",
    "    img = img / 2 + 0.5     # unnormalize\n",
    "    npimg = img.numpy()\n",
    "    plt.imshow(np.transpose(npimg, (1, 2, 0)))\n",
    "    plt.show()"
   ]
  },
  {
   "cell_type": "code",
   "execution_count": 17,
   "metadata": {},
   "outputs": [],
   "source": [
    "dataiter = iter(trainloader)\n",
    "images, labels = dataiter.next()"
   ]
  },
  {
   "cell_type": "code",
   "execution_count": 18,
   "metadata": {
    "scrolled": false
   },
   "outputs": [
    {
     "data": {
      "image/png": "[encoded data removed]",
      "text/plain": [
       "<Figure size 432x288 with 1 Axes>"
      ]
     },
     "metadata": {
      "needs_background": "light"
     },
     "output_type": "display_data"
    }
   ],
   "source": [
    "imshow(torchvision.utils.make_grid(images))"
   ]
  },
  {
   "cell_type": "markdown",
   "metadata": {},
   "source": [
    "## Metrics"
   ]
  },
  {
   "cell_type": "code",
   "execution_count": 19,
   "metadata": {},
   "outputs": [],
   "source": [
    "def accuracy(out, yb):\n",
    "    preds = torch.argmax(out, dim=1)\n",
    "    return (preds == yb).float().mean()"
   ]
  },
  {
   "cell_type": "markdown",
   "metadata": {},
   "source": [
    "## Train Defintion"
   ]
  },
  {
   "cell_type": "code",
   "execution_count": 53,
   "metadata": {},
   "outputs": [],
   "source": [
    "import torch.optim as optim"
   ]
  },
  {
   "cell_type": "code",
   "execution_count": 20,
   "metadata": {},
   "outputs": [],
   "source": [
    "model = nn.Sequential(\n",
    "    ConvLayer(3,64),\n",
    "    ConvLayer(64,96, pool=True),\n",
    "    ConvLayer(96,96),\n",
    "    ConvLayer(96,128, pool=True),\n",
    "    ConvLayer(128,128),\n",
    "    ConvLayer(128,192, pool=True),\n",
    "    Flatten(),\n",
    "    nn.Dropout(p=0.5),\n",
    "    nn.Linear(3072,512),\n",
    "    nn.Dropout(p=0.5),\n",
    "    nn.Linear(512,10),\n",
    ")"
   ]
  },
  {
   "cell_type": "code",
   "execution_count": 33,
   "metadata": {},
   "outputs": [],
   "source": [
    "# Might be a better way to do thiseg: pass model to fir function the pass parts to train_epoch ?\n",
    "pre_drop_model = model[:8]\n",
    "end_model = model[8:]"
   ]
  },
  {
   "cell_type": "code",
   "execution_count": 54,
   "metadata": {},
   "outputs": [],
   "source": [
    "loss_func = nn.CrossEntropyLoss()\n",
    "# loss_func = MultiSampleLoss\n",
    "optimiser = optim.Adam(model.parameters(), lr=lr)"
   ]
  },
  {
   "cell_type": "code",
   "execution_count": 55,
   "metadata": {},
   "outputs": [],
   "source": [
    "def train_epoch(train_loader, drp_sample):\n",
    "    acc, loss_arr = [] ,[]\n",
    "    for inputs, labels in tqdm_notebook(train_loader, leave=False):\n",
    "        optimiser.zero_grad()\n",
    "        \n",
    "        # Split model\n",
    "        outputs = pre_drop_model(inputs)\n",
    "        mulit_drops = [end_model(outputs)for _ in range(drp_sample)] # perfrom multisample dropout\n",
    "        multi_lables = [labels for _ in range(drp_sample)] # match the labels\n",
    "        \n",
    "        # Join logits and labels\n",
    "        final_out = torch.cat(mulit_drops)\n",
    "        final_labels = torch.cat(multi_lables)\n",
    "        \n",
    "#         logits = model(inputs)\n",
    "        \n",
    "        acc.append(accuracy(final_out, final_labels))\n",
    "        \n",
    "        loss = loss_func(final_out, final_labels)\n",
    "        loss_arr.append(loss.item())\n",
    "        \n",
    "        \n",
    "        loss.backward() # Compute gradients\n",
    "        optimiser.step() # update parametrs\n",
    "    \n",
    "    return acc , loss_arr \n"
   ]
  },
  {
   "cell_type": "code",
   "execution_count": 56,
   "metadata": {},
   "outputs": [],
   "source": [
    "def eval_batch(eval_dl, model_e):\n",
    "    acc, loss_arr = [] ,[]\n",
    "    m = model.eval()\n",
    "    for inputs, labels in tqdm_notebook(eval_dl, leave=False):\n",
    "        \n",
    "        logits = m(inputs)\n",
    "        # Get accuraucy\n",
    "        acc.append(accuracy(logits,labels))\n",
    "        \n",
    "        # Get loss\n",
    "        loss = loss_func(logits,labels)\n",
    "        loss_arr.append(loss.item())\n",
    "    return acc, loss_arr\n",
    "        \n",
    "        \n",
    "            \n",
    "        "
   ]
  },
  {
   "cell_type": "code",
   "execution_count": 57,
   "metadata": {},
   "outputs": [],
   "source": [
    "def fit(train_loader, eval_dl, epochs, drp_sample=1):\n",
    "    tr_acc, tr_loss = [], [] # store metrics\n",
    "    val_acc, val_loss = [], [] # store metrics\n",
    "    \n",
    "    for ep in tnrange(epochs):\n",
    "        acc_ep, loss_ep = train_epoch(train_loader, drp_sample)\n",
    "        tr_acc.extend(acc_ep)\n",
    "        tr_loss.extend(loss_ep)\n",
    "        print(f'{ep}: Train - Loss:{np.mean(loss_ep[:-5]):.2f}, Acc:{np.mean(acc_ep[:-5]):.2f}')\n",
    "\n",
    "        val_acc_ep, val_loss_ep = eval_batch(eval_dl, model)\n",
    "        val_acc.extend(val_acc_ep)\n",
    "        val_loss.extend(val_loss_ep)\n",
    "        print(f'{ep}: Valid - Loss:{np.mean(val_loss_ep[:-5]):.2f}, Acc:{np.mean(val_acc_ep[:-5]):.2f}')\n",
    "        \n",
    "        \n",
    "    return tr_loss, tr_acc, val_loss, val_acc\n",
    "    \n",
    "    \n",
    "    \n",
    "    "
   ]
  },
  {
   "cell_type": "code",
   "execution_count": 58,
   "metadata": {},
   "outputs": [],
   "source": [
    "# learner = CNN(2)"
   ]
  },
  {
   "cell_type": "code",
   "execution_count": 59,
   "metadata": {},
   "outputs": [],
   "source": [
    "lr = 0.01\n",
    "epochs = 5\n",
    "# drp_sample = 8"
   ]
  },
  {
   "cell_type": "code",
   "execution_count": null,
   "metadata": {
    "scrolled": false
   },
   "outputs": [
    {
     "data": {
      "application/vnd.jupyter.widget-view+json": {
       "model_id": "8ab46cd5258a47579d6e5e9420b074b6",
       "version_major": 2,
       "version_minor": 0
      },
      "text/plain": [
       "HBox(children=(IntProgress(value=0, max=5), HTML(value='')))"
      ]
     },
     "metadata": {},
     "output_type": "display_data"
    },
    {
     "data": {
      "application/vnd.jupyter.widget-view+json": {
       "model_id": "",
       "version_major": 2,
       "version_minor": 0
      },
      "text/plain": [
       "HBox(children=(IntProgress(value=0, max=500), HTML(value='')))"
      ]
     },
     "metadata": {},
     "output_type": "display_data"
    },
    {
     "name": "stdout",
     "output_type": "stream",
     "text": [
      "0: Train - Loss:1.95, Acc:0.35\n"
     ]
    },
    {
     "data": {
      "application/vnd.jupyter.widget-view+json": {
       "model_id": "",
       "version_major": 2,
       "version_minor": 0
      },
      "text/plain": [
       "HBox(children=(IntProgress(value=0, max=2500), HTML(value='')))"
      ]
     },
     "metadata": {},
     "output_type": "display_data"
    },
    {
     "name": "stdout",
     "output_type": "stream",
     "text": [
      "0: Valid - Loss:1.37, Acc:0.49\n"
     ]
    },
    {
     "data": {
      "application/vnd.jupyter.widget-view+json": {
       "model_id": "",
       "version_major": 2,
       "version_minor": 0
      },
      "text/plain": [
       "HBox(children=(IntProgress(value=0, max=500), HTML(value='')))"
      ]
     },
     "metadata": {},
     "output_type": "display_data"
    },
    {
     "name": "stdout",
     "output_type": "stream",
     "text": [
      "1: Train - Loss:1.29, Acc:0.53\n"
     ]
    },
    {
     "data": {
      "application/vnd.jupyter.widget-view+json": {
       "model_id": "",
       "version_major": 2,
       "version_minor": 0
      },
      "text/plain": [
       "HBox(children=(IntProgress(value=0, max=2500), HTML(value='')))"
      ]
     },
     "metadata": {},
     "output_type": "display_data"
    },
    {
     "name": "stdout",
     "output_type": "stream",
     "text": [
      "1: Valid - Loss:1.09, Acc:0.61\n"
     ]
    },
    {
     "data": {
      "application/vnd.jupyter.widget-view+json": {
       "model_id": "",
       "version_major": 2,
       "version_minor": 0
      },
      "text/plain": [
       "HBox(children=(IntProgress(value=0, max=500), HTML(value='')))"
      ]
     },
     "metadata": {},
     "output_type": "display_data"
    },
    {
     "name": "stdout",
     "output_type": "stream",
     "text": [
      "2: Train - Loss:1.03, Acc:0.63\n"
     ]
    },
    {
     "data": {
      "application/vnd.jupyter.widget-view+json": {
       "model_id": "",
       "version_major": 2,
       "version_minor": 0
      },
      "text/plain": [
       "HBox(children=(IntProgress(value=0, max=2500), HTML(value='')))"
      ]
     },
     "metadata": {},
     "output_type": "display_data"
    },
    {
     "name": "stdout",
     "output_type": "stream",
     "text": [
      "2: Valid - Loss:0.94, Acc:0.66\n"
     ]
    },
    {
     "data": {
      "application/vnd.jupyter.widget-view+json": {
       "model_id": "68fb613e9fc44db1b7c17e79e76bf50f",
       "version_major": 2,
       "version_minor": 0
      },
      "text/plain": [
       "HBox(children=(IntProgress(value=0, max=500), HTML(value='')))"
      ]
     },
     "metadata": {},
     "output_type": "display_data"
    }
   ],
   "source": [
    "# normal\n",
    "history = fit(trainloader, testloader, 5)"
   ]
  },
  {
   "cell_type": "code",
   "execution_count": null,
   "metadata": {},
   "outputs": [],
   "source": [
    "tr_loss, tr_acc, val_loss, val_acc = history"
   ]
  },
  {
   "cell_type": "code",
   "execution_count": 27,
   "metadata": {},
   "outputs": [],
   "source": [
    "import matplotlib.pyplot as plt\n",
    "%matplotlib inline"
   ]
  },
  {
   "cell_type": "code",
   "execution_count": 33,
   "metadata": {
    "scrolled": false
   },
   "outputs": [
    {
     "data": {
      "text/plain": [
       "[<matplotlib.lines.Line2D at 0x7efe44c92c18>]"
      ]
     },
     "execution_count": 33,
     "metadata": {},
     "output_type": "execute_result"
    },
    {
     "data": {
      "image/png": "[encoded data removed]",
      "text/plain": [
       "<Figure size 432x288 with 1 Axes>"
      ]
     },
     "metadata": {
      "needs_background": "light"
     },
     "output_type": "display_data"
    }
   ],
   "source": [
    "plt.plot(tr_loss)\n"
   ]
  },
  {
   "cell_type": "code",
   "execution_count": 34,
   "metadata": {},
   "outputs": [
    {
     "data": {
      "text/plain": [
       "[<matplotlib.lines.Line2D at 0x7efe44bef908>]"
      ]
     },
     "execution_count": 34,
     "metadata": {},
     "output_type": "execute_result"
    },
    {
     "data": {
      "image/png": "[encoded data removed]",
      "text/plain": [
       "<Figure size 432x288 with 1 Axes>"
      ]
     },
     "metadata": {
      "needs_background": "light"
     },
     "output_type": "display_data"
    }
   ],
   "source": [
    "plt.plot(val_loss)"
   ]
  },
  {
   "cell_type": "code",
   "execution_count": 32,
   "metadata": {
    "scrolled": true
   },
   "outputs": [
    {
     "data": {
      "text/plain": [
       "[<matplotlib.lines.Line2D at 0x7efe44cb4e10>]"
      ]
     },
     "execution_count": 32,
     "metadata": {},
     "output_type": "execute_result"
    },
    {
     "data": {
      "image/png": "[encoded data removed]",
      "text/plain": [
       "<Figure size 432x288 with 1 Axes>"
      ]
     },
     "metadata": {
      "needs_background": "light"
     },
     "output_type": "display_data"
    }
   ],
   "source": [
    "plt.plot(tr_acc)\n"
   ]
  },
  {
   "cell_type": "code",
   "execution_count": 37,
   "metadata": {
    "scrolled": true
   },
   "outputs": [
    {
     "data": {
      "text/plain": [
       "[<matplotlib.lines.Line2D at 0x7efe44b15438>]"
      ]
     },
     "execution_count": 37,
     "metadata": {},
     "output_type": "execute_result"
    },
    {
     "data": {
      "image/png": "[encoded data removed]",
      "text/plain": [
       "<Figure size 432x288 with 1 Axes>"
      ]
     },
     "metadata": {
      "needs_background": "light"
     },
     "output_type": "display_data"
    }
   ],
   "source": [
    "plt.plot(val_acc)"
   ]
  },
  {
   "cell_type": "code",
   "execution_count": 38,
   "metadata": {
    "collapsed": true
   },
   "outputs": [
    {
     "data": {
      "text/plain": [
       "[tensor(0.7500),\n",
       " tensor(1.),\n",
       " tensor(0.5000),\n",
       " tensor(0.7500),\n",
       " tensor(1.),\n",
       " tensor(0.7500),\n",
       " tensor(0.2500),\n",
       " tensor(0.5000),\n",
       " tensor(0.5000),\n",
       " tensor(1.),\n",
       " tensor(0.7500),\n",
       " tensor(0.7500),\n",
       " tensor(0.5000),\n",
       " tensor(0.5000),\n",
       " tensor(0.2500),\n",
       " tensor(0.2500),\n",
       " tensor(0.5000),\n",
       " tensor(0.),\n",
       " tensor(0.5000),\n",
       " tensor(0.),\n",
       " tensor(1.),\n",
       " tensor(0.5000),\n",
       " tensor(0.5000),\n",
       " tensor(1.),\n",
       " tensor(1.),\n",
       " tensor(0.5000),\n",
       " tensor(0.7500),\n",
       " tensor(0.7500),\n",
       " tensor(0.2500),\n",
       " tensor(0.5000),\n",
       " tensor(0.7500),\n",
       " tensor(0.),\n",
       " tensor(0.2500),\n",
       " tensor(0.7500),\n",
       " tensor(0.5000),\n",
       " tensor(0.5000),\n",
       " tensor(0.2500),\n",
       " tensor(0.),\n",
       " tensor(1.),\n",
       " tensor(0.7500),\n",
       " tensor(0.7500),\n",
       " tensor(0.2500),\n",
       " tensor(0.5000),\n",
       " tensor(0.5000),\n",
       " tensor(0.5000),\n",
       " tensor(0.5000),\n",
       " tensor(0.2500),\n",
       " tensor(0.2500),\n",
       " tensor(0.5000),\n",
       " tensor(0.2500),\n",
       " tensor(0.5000),\n",
       " tensor(0.5000),\n",
       " tensor(0.2500),\n",
       " tensor(0.2500),\n",
       " tensor(0.5000),\n",
       " tensor(0.7500),\n",
       " tensor(0.7500),\n",
       " tensor(0.5000),\n",
       " tensor(0.5000),\n",
       " tensor(0.5000),\n",
       " tensor(0.5000),\n",
       " tensor(0.2500),\n",
       " tensor(0.),\n",
       " tensor(1.),\n",
       " tensor(0.5000),\n",
       " tensor(0.5000),\n",
       " tensor(0.7500),\n",
       " tensor(0.5000),\n",
       " tensor(0.5000),\n",
       " tensor(0.5000),\n",
       " tensor(0.5000),\n",
       " tensor(0.5000),\n",
       " tensor(0.7500),\n",
       " tensor(0.7500),\n",
       " tensor(1.),\n",
       " tensor(0.5000),\n",
       " tensor(0.5000),\n",
       " tensor(0.7500),\n",
       " tensor(0.7500),\n",
       " tensor(0.7500),\n",
       " tensor(0.2500),\n",
       " tensor(0.2500),\n",
       " tensor(0.7500),\n",
       " tensor(0.5000),\n",
       " tensor(0.5000),\n",
       " tensor(0.2500),\n",
       " tensor(0.2500),\n",
       " tensor(0.2500),\n",
       " tensor(0.2500),\n",
       " tensor(0.),\n",
       " tensor(0.5000),\n",
       " tensor(0.2500),\n",
       " tensor(0.7500),\n",
       " tensor(0.5000),\n",
       " tensor(0.2500),\n",
       " tensor(0.7500),\n",
       " tensor(0.5000),\n",
       " tensor(0.2500),\n",
       " tensor(0.7500),\n",
       " tensor(0.7500),\n",
       " tensor(0.7500),\n",
       " tensor(0.5000),\n",
       " tensor(0.7500),\n",
       " tensor(0.5000),\n",
       " tensor(0.2500),\n",
       " tensor(0.7500),\n",
       " tensor(0.5000),\n",
       " tensor(0.2500),\n",
       " tensor(0.5000),\n",
       " tensor(0.2500),\n",
       " tensor(0.7500),\n",
       " tensor(0.2500),\n",
       " tensor(0.5000),\n",
       " tensor(0.5000),\n",
       " tensor(0.2500),\n",
       " tensor(0.7500),\n",
       " tensor(0.2500),\n",
       " tensor(0.),\n",
       " tensor(1.),\n",
       " tensor(0.7500),\n",
       " tensor(0.5000),\n",
       " tensor(0.5000),\n",
       " tensor(0.7500),\n",
       " tensor(0.5000),\n",
       " tensor(0.5000),\n",
       " tensor(0.7500),\n",
       " tensor(0.),\n",
       " tensor(0.7500),\n",
       " tensor(0.7500),\n",
       " tensor(0.5000),\n",
       " tensor(0.7500),\n",
       " tensor(0.7500),\n",
       " tensor(0.5000),\n",
       " tensor(0.5000),\n",
       " tensor(0.2500),\n",
       " tensor(1.),\n",
       " tensor(1.),\n",
       " tensor(0.2500),\n",
       " tensor(0.2500),\n",
       " tensor(0.5000),\n",
       " tensor(0.7500),\n",
       " tensor(0.2500),\n",
       " tensor(0.7500),\n",
       " tensor(0.5000),\n",
       " tensor(0.5000),\n",
       " tensor(0.7500),\n",
       " tensor(0.5000),\n",
       " tensor(0.7500),\n",
       " tensor(0.5000),\n",
       " tensor(0.),\n",
       " tensor(0.7500),\n",
       " tensor(0.5000),\n",
       " tensor(0.7500),\n",
       " tensor(1.),\n",
       " tensor(0.2500),\n",
       " tensor(1.),\n",
       " tensor(1.),\n",
       " tensor(0.),\n",
       " tensor(0.7500),\n",
       " tensor(0.2500),\n",
       " tensor(0.5000),\n",
       " tensor(0.7500),\n",
       " tensor(0.2500),\n",
       " tensor(0.5000),\n",
       " tensor(1.),\n",
       " tensor(0.5000),\n",
       " tensor(1.),\n",
       " tensor(0.2500),\n",
       " tensor(0.2500),\n",
       " tensor(0.),\n",
       " tensor(0.5000),\n",
       " tensor(0.2500),\n",
       " tensor(0.2500),\n",
       " tensor(0.5000),\n",
       " tensor(0.5000),\n",
       " tensor(0.7500),\n",
       " tensor(0.7500),\n",
       " tensor(0.7500),\n",
       " tensor(0.7500),\n",
       " tensor(0.),\n",
       " tensor(0.7500),\n",
       " tensor(0.),\n",
       " tensor(0.2500),\n",
       " tensor(0.7500),\n",
       " tensor(0.2500),\n",
       " tensor(0.7500),\n",
       " tensor(0.5000),\n",
       " tensor(0.7500),\n",
       " tensor(0.7500),\n",
       " tensor(0.7500),\n",
       " tensor(0.2500),\n",
       " tensor(0.5000),\n",
       " tensor(0.2500),\n",
       " tensor(0.7500),\n",
       " tensor(0.7500),\n",
       " tensor(1.),\n",
       " tensor(0.2500),\n",
       " tensor(0.5000),\n",
       " tensor(0.5000),\n",
       " tensor(0.5000),\n",
       " tensor(0.7500),\n",
       " tensor(1.),\n",
       " tensor(0.2500),\n",
       " tensor(0.7500),\n",
       " tensor(0.2500),\n",
       " tensor(0.7500),\n",
       " tensor(0.5000),\n",
       " tensor(0.5000),\n",
       " tensor(0.2500),\n",
       " tensor(0.7500),\n",
       " tensor(0.7500),\n",
       " tensor(0.2500),\n",
       " tensor(0.5000),\n",
       " tensor(0.2500),\n",
       " tensor(0.5000),\n",
       " tensor(0.5000),\n",
       " tensor(0.7500),\n",
       " tensor(0.5000),\n",
       " tensor(0.5000),\n",
       " tensor(0.5000),\n",
       " tensor(0.7500),\n",
       " tensor(0.7500),\n",
       " tensor(0.5000),\n",
       " tensor(0.5000),\n",
       " tensor(0.2500),\n",
       " tensor(0.5000),\n",
       " tensor(0.5000),\n",
       " tensor(0.2500),\n",
       " tensor(0.5000),\n",
       " tensor(0.2500),\n",
       " tensor(1.),\n",
       " tensor(0.2500),\n",
       " tensor(0.7500),\n",
       " tensor(0.5000),\n",
       " tensor(0.5000),\n",
       " tensor(0.7500),\n",
       " tensor(0.5000),\n",
       " tensor(0.2500),\n",
       " tensor(0.7500),\n",
       " tensor(0.7500),\n",
       " tensor(0.7500),\n",
       " tensor(0.5000),\n",
       " tensor(0.7500),\n",
       " tensor(0.5000),\n",
       " tensor(0.7500),\n",
       " tensor(0.5000),\n",
       " tensor(0.5000),\n",
       " tensor(0.7500),\n",
       " tensor(0.5000),\n",
       " tensor(1.),\n",
       " tensor(0.7500),\n",
       " tensor(0.7500),\n",
       " tensor(0.5000),\n",
       " tensor(0.5000),\n",
       " tensor(0.7500),\n",
       " tensor(0.7500),\n",
       " tensor(0.5000),\n",
       " tensor(0.5000),\n",
       " tensor(0.2500),\n",
       " tensor(0.5000),\n",
       " tensor(0.2500),\n",
       " tensor(0.5000),\n",
       " tensor(0.2500),\n",
       " tensor(0.7500),\n",
       " tensor(0.5000),\n",
       " tensor(0.7500),\n",
       " tensor(0.2500),\n",
       " tensor(0.7500),\n",
       " tensor(0.5000),\n",
       " tensor(1.),\n",
       " tensor(0.5000),\n",
       " tensor(0.5000),\n",
       " tensor(0.7500),\n",
       " tensor(0.7500),\n",
       " tensor(0.7500),\n",
       " tensor(0.7500),\n",
       " tensor(0.7500),\n",
       " tensor(0.5000),\n",
       " tensor(0.7500),\n",
       " tensor(0.5000),\n",
       " tensor(0.),\n",
       " tensor(0.5000),\n",
       " tensor(0.2500),\n",
       " tensor(0.5000),\n",
       " tensor(0.2500),\n",
       " tensor(0.7500),\n",
       " tensor(0.),\n",
       " tensor(0.),\n",
       " tensor(0.5000),\n",
       " tensor(1.),\n",
       " tensor(0.7500),\n",
       " tensor(0.7500),\n",
       " tensor(0.2500),\n",
       " tensor(0.7500),\n",
       " tensor(0.2500),\n",
       " tensor(0.5000),\n",
       " tensor(1.),\n",
       " tensor(1.),\n",
       " tensor(0.5000),\n",
       " tensor(0.5000),\n",
       " tensor(0.2500),\n",
       " tensor(0.7500),\n",
       " tensor(0.5000),\n",
       " tensor(0.5000),\n",
       " tensor(0.2500),\n",
       " tensor(0.2500),\n",
       " tensor(0.5000),\n",
       " tensor(0.5000),\n",
       " tensor(0.7500),\n",
       " tensor(0.7500),\n",
       " tensor(0.2500),\n",
       " tensor(0.5000),\n",
       " tensor(0.5000),\n",
       " tensor(0.),\n",
       " tensor(0.2500),\n",
       " tensor(0.5000),\n",
       " tensor(0.7500),\n",
       " tensor(0.2500),\n",
       " tensor(0.2500),\n",
       " tensor(0.5000),\n",
       " tensor(0.5000),\n",
       " tensor(0.7500),\n",
       " tensor(0.5000),\n",
       " tensor(0.2500),\n",
       " tensor(0.2500),\n",
       " tensor(0.7500),\n",
       " tensor(0.2500),\n",
       " tensor(0.7500),\n",
       " tensor(0.7500),\n",
       " tensor(0.7500),\n",
       " tensor(0.5000),\n",
       " tensor(0.2500),\n",
       " tensor(0.2500),\n",
       " tensor(0.5000),\n",
       " tensor(0.5000),\n",
       " tensor(1.),\n",
       " tensor(0.7500),\n",
       " tensor(0.7500),\n",
       " tensor(0.2500),\n",
       " tensor(0.5000),\n",
       " tensor(0.7500),\n",
       " tensor(0.7500),\n",
       " tensor(0.7500),\n",
       " tensor(0.5000),\n",
       " tensor(0.),\n",
       " tensor(0.5000),\n",
       " tensor(0.5000),\n",
       " tensor(0.2500),\n",
       " tensor(0.5000),\n",
       " tensor(0.5000),\n",
       " tensor(0.2500),\n",
       " tensor(1.),\n",
       " tensor(0.7500),\n",
       " tensor(1.),\n",
       " tensor(0.7500),\n",
       " tensor(0.7500),\n",
       " tensor(0.7500),\n",
       " tensor(0.7500),\n",
       " tensor(0.7500),\n",
       " tensor(0.5000),\n",
       " tensor(0.7500),\n",
       " tensor(0.5000),\n",
       " tensor(0.5000),\n",
       " tensor(0.),\n",
       " tensor(0.5000),\n",
       " tensor(1.),\n",
       " tensor(0.7500),\n",
       " tensor(0.5000),\n",
       " tensor(0.5000),\n",
       " tensor(0.7500),\n",
       " tensor(1.),\n",
       " tensor(0.7500),\n",
       " tensor(0.5000),\n",
       " tensor(0.2500),\n",
       " tensor(0.5000),\n",
       " tensor(0.2500),\n",
       " tensor(0.2500),\n",
       " tensor(0.7500),\n",
       " tensor(0.7500),\n",
       " tensor(0.7500),\n",
       " tensor(0.5000),\n",
       " tensor(0.2500),\n",
       " tensor(0.2500),\n",
       " tensor(0.7500),\n",
       " tensor(0.),\n",
       " tensor(0.7500),\n",
       " tensor(0.7500),\n",
       " tensor(0.5000),\n",
       " tensor(0.7500),\n",
       " tensor(0.7500),\n",
       " tensor(0.7500),\n",
       " tensor(0.7500),\n",
       " tensor(0.5000),\n",
       " tensor(0.2500),\n",
       " tensor(0.5000),\n",
       " tensor(0.),\n",
       " tensor(0.2500),\n",
       " tensor(0.7500),\n",
       " tensor(0.),\n",
       " tensor(0.2500),\n",
       " tensor(0.5000),\n",
       " tensor(0.2500),\n",
       " tensor(0.7500),\n",
       " tensor(0.2500),\n",
       " tensor(0.7500),\n",
       " tensor(0.5000),\n",
       " tensor(0.5000),\n",
       " tensor(0.7500),\n",
       " tensor(0.7500),\n",
       " tensor(0.7500),\n",
       " tensor(0.7500),\n",
       " tensor(0.7500),\n",
       " tensor(0.5000),\n",
       " tensor(0.5000),\n",
       " tensor(0.2500),\n",
       " tensor(0.5000),\n",
       " tensor(0.7500),\n",
       " tensor(0.5000),\n",
       " tensor(0.2500),\n",
       " tensor(0.7500),\n",
       " tensor(0.7500),\n",
       " tensor(0.5000),\n",
       " tensor(0.7500),\n",
       " tensor(0.7500),\n",
       " tensor(0.2500),\n",
       " tensor(0.2500),\n",
       " tensor(0.5000),\n",
       " tensor(0.5000),\n",
       " tensor(0.5000),\n",
       " tensor(0.7500),\n",
       " tensor(0.5000),\n",
       " tensor(0.7500),\n",
       " tensor(0.2500),\n",
       " tensor(1.),\n",
       " tensor(0.5000),\n",
       " tensor(0.5000),\n",
       " tensor(0.),\n",
       " tensor(0.7500),\n",
       " tensor(0.7500),\n",
       " tensor(0.2500),\n",
       " tensor(0.7500),\n",
       " tensor(0.5000),\n",
       " tensor(0.2500),\n",
       " tensor(0.2500),\n",
       " tensor(0.5000),\n",
       " tensor(0.7500),\n",
       " tensor(0.7500),\n",
       " tensor(0.2500),\n",
       " tensor(0.7500),\n",
       " tensor(0.5000),\n",
       " tensor(0.5000),\n",
       " tensor(0.2500),\n",
       " tensor(0.7500),\n",
       " tensor(0.),\n",
       " tensor(1.),\n",
       " tensor(0.),\n",
       " tensor(1.),\n",
       " tensor(0.2500),\n",
       " tensor(0.2500),\n",
       " tensor(0.5000),\n",
       " tensor(0.2500),\n",
       " tensor(0.5000),\n",
       " tensor(0.5000),\n",
       " tensor(0.7500),\n",
       " tensor(0.5000),\n",
       " tensor(0.5000),\n",
       " tensor(0.5000),\n",
       " tensor(0.2500),\n",
       " tensor(0.2500),\n",
       " tensor(0.5000),\n",
       " tensor(0.2500),\n",
       " tensor(0.2500),\n",
       " tensor(0.7500),\n",
       " tensor(0.5000),\n",
       " tensor(0.5000),\n",
       " tensor(0.7500),\n",
       " tensor(0.2500),\n",
       " tensor(0.5000),\n",
       " tensor(1.),\n",
       " tensor(0.5000),\n",
       " tensor(0.5000),\n",
       " tensor(0.2500),\n",
       " tensor(0.2500),\n",
       " tensor(0.2500),\n",
       " tensor(0.2500),\n",
       " tensor(0.5000),\n",
       " tensor(0.5000),\n",
       " tensor(1.),\n",
       " tensor(0.5000),\n",
       " tensor(0.5000),\n",
       " tensor(0.2500),\n",
       " tensor(0.7500),\n",
       " tensor(0.5000),\n",
       " tensor(0.5000),\n",
       " tensor(0.2500),\n",
       " tensor(0.5000),\n",
       " tensor(0.5000),\n",
       " tensor(0.5000),\n",
       " tensor(0.5000),\n",
       " tensor(0.),\n",
       " tensor(0.2500),\n",
       " tensor(1.),\n",
       " tensor(0.5000),\n",
       " tensor(1.),\n",
       " tensor(0.5000),\n",
       " tensor(0.5000),\n",
       " tensor(0.5000),\n",
       " tensor(0.5000),\n",
       " tensor(0.5000),\n",
       " tensor(0.),\n",
       " tensor(1.),\n",
       " tensor(0.5000),\n",
       " tensor(0.5000),\n",
       " tensor(0.5000),\n",
       " tensor(0.2500),\n",
       " tensor(0.5000),\n",
       " tensor(0.2500),\n",
       " tensor(0.2500),\n",
       " tensor(0.2500),\n",
       " tensor(0.2500),\n",
       " tensor(0.2500),\n",
       " tensor(0.7500),\n",
       " tensor(1.),\n",
       " tensor(0.5000),\n",
       " tensor(0.2500),\n",
       " tensor(0.7500),\n",
       " tensor(0.7500),\n",
       " tensor(0.5000),\n",
       " tensor(0.5000),\n",
       " tensor(0.5000),\n",
       " tensor(0.5000),\n",
       " tensor(0.7500),\n",
       " tensor(0.5000),\n",
       " tensor(0.5000),\n",
       " tensor(0.2500),\n",
       " tensor(1.),\n",
       " tensor(0.2500),\n",
       " tensor(0.2500),\n",
       " tensor(0.5000),\n",
       " tensor(0.5000),\n",
       " tensor(0.2500),\n",
       " tensor(0.7500),\n",
       " tensor(0.5000),\n",
       " tensor(0.5000),\n",
       " tensor(0.7500),\n",
       " tensor(0.7500),\n",
       " tensor(0.5000),\n",
       " tensor(0.2500),\n",
       " tensor(0.2500),\n",
       " tensor(0.5000),\n",
       " tensor(0.7500),\n",
       " tensor(0.5000),\n",
       " tensor(0.7500),\n",
       " tensor(0.2500),\n",
       " tensor(0.5000),\n",
       " tensor(0.5000),\n",
       " tensor(0.7500),\n",
       " tensor(0.5000),\n",
       " tensor(0.5000),\n",
       " tensor(0.7500),\n",
       " tensor(0.2500),\n",
       " tensor(0.2500),\n",
       " tensor(0.5000),\n",
       " tensor(0.2500),\n",
       " tensor(1.),\n",
       " tensor(0.2500),\n",
       " tensor(1.),\n",
       " tensor(0.),\n",
       " tensor(0.5000),\n",
       " tensor(1.),\n",
       " tensor(0.5000),\n",
       " tensor(0.5000),\n",
       " tensor(0.2500),\n",
       " tensor(0.5000),\n",
       " tensor(1.),\n",
       " tensor(0.2500),\n",
       " tensor(0.5000),\n",
       " tensor(0.7500),\n",
       " tensor(0.2500),\n",
       " tensor(0.7500),\n",
       " tensor(0.5000),\n",
       " tensor(0.5000),\n",
       " tensor(0.7500),\n",
       " tensor(0.5000),\n",
       " tensor(0.7500),\n",
       " tensor(0.7500),\n",
       " tensor(1.),\n",
       " tensor(0.5000),\n",
       " tensor(0.2500),\n",
       " tensor(0.5000),\n",
       " tensor(0.2500),\n",
       " tensor(0.7500),\n",
       " tensor(0.7500),\n",
       " tensor(1.),\n",
       " tensor(0.5000),\n",
       " tensor(0.7500),\n",
       " tensor(0.),\n",
       " tensor(0.5000),\n",
       " tensor(0.5000),\n",
       " tensor(0.5000),\n",
       " tensor(0.7500),\n",
       " tensor(0.2500),\n",
       " tensor(0.7500),\n",
       " tensor(0.2500),\n",
       " tensor(0.7500),\n",
       " tensor(0.),\n",
       " tensor(0.5000),\n",
       " tensor(0.5000),\n",
       " tensor(0.5000),\n",
       " tensor(0.7500),\n",
       " tensor(0.2500),\n",
       " tensor(0.5000),\n",
       " tensor(0.7500),\n",
       " tensor(0.2500),\n",
       " tensor(0.7500),\n",
       " tensor(1.),\n",
       " tensor(0.5000),\n",
       " tensor(1.),\n",
       " tensor(0.7500),\n",
       " tensor(0.7500),\n",
       " tensor(0.2500),\n",
       " tensor(0.7500),\n",
       " tensor(0.5000),\n",
       " tensor(0.2500),\n",
       " tensor(0.2500),\n",
       " tensor(0.5000),\n",
       " tensor(0.7500),\n",
       " tensor(0.2500),\n",
       " tensor(0.2500),\n",
       " tensor(0.7500),\n",
       " tensor(0.2500),\n",
       " tensor(0.),\n",
       " tensor(0.7500),\n",
       " tensor(0.),\n",
       " tensor(0.5000),\n",
       " tensor(0.2500),\n",
       " tensor(0.7500),\n",
       " tensor(0.5000),\n",
       " tensor(0.5000),\n",
       " tensor(0.7500),\n",
       " tensor(0.7500),\n",
       " tensor(0.2500),\n",
       " tensor(0.7500),\n",
       " tensor(0.2500),\n",
       " tensor(0.5000),\n",
       " tensor(0.5000),\n",
       " tensor(0.5000),\n",
       " tensor(0.5000),\n",
       " tensor(0.7500),\n",
       " tensor(0.),\n",
       " tensor(1.),\n",
       " tensor(0.2500),\n",
       " tensor(0.7500),\n",
       " tensor(0.5000),\n",
       " tensor(0.5000),\n",
       " tensor(1.),\n",
       " tensor(0.5000),\n",
       " tensor(0.2500),\n",
       " tensor(0.2500),\n",
       " tensor(0.7500),\n",
       " tensor(0.5000),\n",
       " tensor(0.7500),\n",
       " tensor(0.5000),\n",
       " tensor(0.2500),\n",
       " tensor(1.),\n",
       " tensor(0.2500),\n",
       " tensor(1.),\n",
       " tensor(0.7500),\n",
       " tensor(0.2500),\n",
       " tensor(0.5000),\n",
       " tensor(1.),\n",
       " tensor(0.5000),\n",
       " tensor(0.5000),\n",
       " tensor(0.5000),\n",
       " tensor(0.5000),\n",
       " tensor(0.5000),\n",
       " tensor(0.5000),\n",
       " tensor(1.),\n",
       " tensor(0.7500),\n",
       " tensor(0.2500),\n",
       " tensor(0.),\n",
       " tensor(1.),\n",
       " tensor(0.2500),\n",
       " tensor(0.5000),\n",
       " tensor(0.5000),\n",
       " tensor(0.5000),\n",
       " tensor(0.2500),\n",
       " tensor(0.5000),\n",
       " tensor(0.2500),\n",
       " tensor(0.),\n",
       " tensor(0.5000),\n",
       " tensor(0.7500),\n",
       " tensor(0.2500),\n",
       " tensor(0.7500),\n",
       " tensor(0.5000),\n",
       " tensor(0.7500),\n",
       " tensor(0.),\n",
       " tensor(0.5000),\n",
       " tensor(0.5000),\n",
       " tensor(0.2500),\n",
       " tensor(1.),\n",
       " tensor(0.5000),\n",
       " tensor(0.2500),\n",
       " tensor(0.2500),\n",
       " tensor(0.7500),\n",
       " tensor(0.5000),\n",
       " tensor(0.7500),\n",
       " tensor(0.5000),\n",
       " tensor(0.5000),\n",
       " tensor(0.2500),\n",
       " tensor(0.),\n",
       " tensor(0.5000),\n",
       " tensor(0.5000),\n",
       " tensor(0.7500),\n",
       " tensor(1.),\n",
       " tensor(1.),\n",
       " tensor(0.5000),\n",
       " tensor(0.),\n",
       " tensor(0.5000),\n",
       " tensor(0.5000),\n",
       " tensor(0.7500),\n",
       " tensor(0.7500),\n",
       " tensor(0.),\n",
       " tensor(0.7500),\n",
       " tensor(0.2500),\n",
       " tensor(0.2500),\n",
       " tensor(0.7500),\n",
       " tensor(0.5000),\n",
       " tensor(0.5000),\n",
       " tensor(1.),\n",
       " tensor(0.5000),\n",
       " tensor(0.5000),\n",
       " tensor(0.5000),\n",
       " tensor(0.5000),\n",
       " tensor(0.5000),\n",
       " tensor(0.5000),\n",
       " tensor(0.7500),\n",
       " tensor(0.5000),\n",
       " tensor(0.2500),\n",
       " tensor(0.),\n",
       " tensor(0.2500),\n",
       " tensor(1.),\n",
       " tensor(0.5000),\n",
       " tensor(0.5000),\n",
       " tensor(0.5000),\n",
       " tensor(0.7500),\n",
       " tensor(0.),\n",
       " tensor(0.2500),\n",
       " tensor(0.5000),\n",
       " tensor(0.5000),\n",
       " tensor(1.),\n",
       " tensor(0.7500),\n",
       " tensor(0.7500),\n",
       " tensor(0.2500),\n",
       " tensor(0.7500),\n",
       " tensor(0.7500),\n",
       " tensor(0.5000),\n",
       " tensor(0.2500),\n",
       " tensor(0.),\n",
       " tensor(0.5000),\n",
       " tensor(0.7500),\n",
       " tensor(0.5000),\n",
       " tensor(0.5000),\n",
       " tensor(0.2500),\n",
       " tensor(0.7500),\n",
       " tensor(0.7500),\n",
       " tensor(0.2500),\n",
       " tensor(0.7500),\n",
       " tensor(0.2500),\n",
       " tensor(0.5000),\n",
       " tensor(0.7500),\n",
       " tensor(0.2500),\n",
       " tensor(1.),\n",
       " tensor(0.5000),\n",
       " tensor(0.7500),\n",
       " tensor(1.),\n",
       " tensor(0.2500),\n",
       " tensor(0.2500),\n",
       " tensor(0.2500),\n",
       " tensor(0.7500),\n",
       " tensor(0.7500),\n",
       " tensor(0.5000),\n",
       " tensor(0.2500),\n",
       " tensor(1.),\n",
       " tensor(0.5000),\n",
       " tensor(0.2500),\n",
       " tensor(0.5000),\n",
       " tensor(0.5000),\n",
       " tensor(0.7500),\n",
       " tensor(0.7500),\n",
       " tensor(0.7500),\n",
       " tensor(0.2500),\n",
       " tensor(0.5000),\n",
       " tensor(0.5000),\n",
       " tensor(0.7500),\n",
       " tensor(0.5000),\n",
       " tensor(0.5000),\n",
       " tensor(0.5000),\n",
       " tensor(0.),\n",
       " tensor(1.),\n",
       " tensor(0.5000),\n",
       " tensor(0.),\n",
       " tensor(0.2500),\n",
       " tensor(0.5000),\n",
       " tensor(0.5000),\n",
       " tensor(0.5000),\n",
       " tensor(0.2500),\n",
       " tensor(0.),\n",
       " tensor(0.2500),\n",
       " tensor(0.7500),\n",
       " tensor(0.7500),\n",
       " tensor(0.5000),\n",
       " tensor(0.2500),\n",
       " tensor(0.2500),\n",
       " tensor(0.5000),\n",
       " tensor(0.5000),\n",
       " tensor(0.5000),\n",
       " tensor(0.7500),\n",
       " tensor(0.2500),\n",
       " tensor(0.7500),\n",
       " tensor(0.2500),\n",
       " tensor(0.7500),\n",
       " tensor(0.7500),\n",
       " tensor(0.7500),\n",
       " tensor(0.2500),\n",
       " tensor(0.2500),\n",
       " tensor(0.2500),\n",
       " tensor(0.7500),\n",
       " tensor(0.),\n",
       " tensor(0.7500),\n",
       " tensor(0.2500),\n",
       " tensor(0.2500),\n",
       " tensor(0.5000),\n",
       " tensor(0.5000),\n",
       " tensor(0.7500),\n",
       " tensor(0.7500),\n",
       " tensor(0.5000),\n",
       " tensor(1.),\n",
       " tensor(0.2500),\n",
       " tensor(0.2500),\n",
       " tensor(0.5000),\n",
       " tensor(0.2500),\n",
       " tensor(1.),\n",
       " tensor(0.5000),\n",
       " tensor(0.7500),\n",
       " tensor(0.7500),\n",
       " tensor(0.5000),\n",
       " tensor(0.5000),\n",
       " tensor(1.),\n",
       " tensor(0.5000),\n",
       " tensor(0.),\n",
       " tensor(1.),\n",
       " tensor(0.2500),\n",
       " tensor(0.5000),\n",
       " tensor(0.5000),\n",
       " tensor(0.7500),\n",
       " tensor(0.7500),\n",
       " tensor(0.5000),\n",
       " tensor(0.5000),\n",
       " tensor(0.5000),\n",
       " tensor(0.5000),\n",
       " tensor(0.7500),\n",
       " tensor(0.),\n",
       " tensor(0.5000),\n",
       " tensor(0.2500),\n",
       " tensor(0.5000),\n",
       " tensor(1.),\n",
       " tensor(0.5000),\n",
       " tensor(0.5000),\n",
       " tensor(0.5000),\n",
       " tensor(0.7500),\n",
       " tensor(1.),\n",
       " tensor(0.5000),\n",
       " tensor(0.5000),\n",
       " tensor(0.2500),\n",
       " tensor(0.2500),\n",
       " tensor(0.7500),\n",
       " tensor(0.2500),\n",
       " tensor(0.5000),\n",
       " tensor(0.7500),\n",
       " tensor(0.7500),\n",
       " tensor(0.2500),\n",
       " tensor(0.5000),\n",
       " tensor(0.2500),\n",
       " tensor(0.5000),\n",
       " tensor(0.5000),\n",
       " tensor(0.7500),\n",
       " tensor(0.7500),\n",
       " tensor(0.5000),\n",
       " tensor(0.5000),\n",
       " tensor(0.2500),\n",
       " tensor(0.7500),\n",
       " tensor(0.2500),\n",
       " tensor(0.),\n",
       " tensor(0.7500),\n",
       " tensor(1.),\n",
       " tensor(0.5000),\n",
       " tensor(1.),\n",
       " tensor(0.2500),\n",
       " tensor(0.7500),\n",
       " tensor(0.2500),\n",
       " tensor(0.),\n",
       " tensor(0.7500),\n",
       " tensor(0.2500),\n",
       " tensor(0.5000),\n",
       " tensor(0.2500),\n",
       " tensor(0.2500),\n",
       " tensor(0.7500),\n",
       " tensor(0.5000),\n",
       " tensor(0.5000),\n",
       " tensor(0.2500),\n",
       " tensor(0.5000),\n",
       " tensor(0.7500),\n",
       " tensor(0.2500),\n",
       " tensor(0.2500),\n",
       " tensor(1.),\n",
       " tensor(1.),\n",
       " tensor(0.7500),\n",
       " tensor(0.2500),\n",
       " tensor(0.7500),\n",
       " tensor(0.),\n",
       " tensor(1.),\n",
       " tensor(0.7500),\n",
       " tensor(0.5000),\n",
       " tensor(1.),\n",
       " tensor(0.7500),\n",
       " tensor(0.5000),\n",
       " tensor(0.2500),\n",
       " tensor(0.2500),\n",
       " tensor(0.5000),\n",
       " tensor(0.5000),\n",
       " tensor(0.2500),\n",
       " tensor(0.2500),\n",
       " tensor(0.5000),\n",
       " tensor(0.7500),\n",
       " tensor(0.5000),\n",
       " tensor(0.5000),\n",
       " tensor(0.2500),\n",
       " tensor(0.2500),\n",
       " tensor(0.2500),\n",
       " tensor(1.),\n",
       " tensor(0.5000),\n",
       " tensor(0.2500),\n",
       " tensor(0.5000),\n",
       " tensor(0.5000),\n",
       " tensor(0.7500),\n",
       " tensor(0.5000),\n",
       " tensor(1.),\n",
       " tensor(0.5000),\n",
       " tensor(0.2500),\n",
       " tensor(0.2500),\n",
       " tensor(0.2500),\n",
       " tensor(0.5000),\n",
       " tensor(0.5000),\n",
       " tensor(0.5000),\n",
       " tensor(0.7500),\n",
       " tensor(0.7500),\n",
       " tensor(0.5000),\n",
       " tensor(0.2500),\n",
       " tensor(1.),\n",
       " tensor(0.2500),\n",
       " tensor(0.7500),\n",
       " tensor(0.5000),\n",
       " tensor(0.7500),\n",
       " tensor(0.),\n",
       " tensor(0.5000),\n",
       " tensor(0.2500),\n",
       " tensor(0.5000),\n",
       " tensor(0.5000),\n",
       " tensor(0.5000),\n",
       " tensor(1.),\n",
       " tensor(0.2500),\n",
       " tensor(0.5000),\n",
       " tensor(0.5000),\n",
       " tensor(0.5000),\n",
       " tensor(0.2500),\n",
       " tensor(0.2500),\n",
       " tensor(0.7500),\n",
       " tensor(1.),\n",
       " tensor(0.5000),\n",
       " tensor(0.2500),\n",
       " tensor(0.5000),\n",
       " tensor(0.5000),\n",
       " tensor(0.2500),\n",
       " tensor(1.),\n",
       " tensor(0.7500),\n",
       " tensor(0.7500),\n",
       " tensor(0.7500),\n",
       " tensor(0.5000),\n",
       " tensor(0.2500),\n",
       " tensor(0.2500),\n",
       " tensor(0.5000),\n",
       " tensor(0.5000),\n",
       " tensor(0.7500),\n",
       " tensor(0.2500),\n",
       " tensor(0.5000),\n",
       " tensor(1.),\n",
       " tensor(0.5000),\n",
       " tensor(0.7500),\n",
       " tensor(0.2500),\n",
       " ...]"
      ]
     },
     "execution_count": 38,
     "metadata": {},
     "output_type": "execute_result"
    }
   ],
   "source": [
    "val_acc"
   ]
  },
  {
   "cell_type": "code",
   "execution_count": 44,
   "metadata": {
    "scrolled": true
   },
   "outputs": [
    {
     "data": {
      "application/vnd.jupyter.widget-view+json": {
       "model_id": "f685f00c0263435d926a6c049f377a65",
       "version_major": 2,
       "version_minor": 0
      },
      "text/html": [
       "<p>Failed to display Jupyter Widget of type <code>HBox</code>.</p>\n",
       "<p>\n",
       "  If you're reading this message in the Jupyter Notebook or JupyterLab Notebook, it may mean\n",
       "  that the widgets JavaScript is still loading. If this message persists, it\n",
       "  likely means that the widgets JavaScript library is either not installed or\n",
       "  not enabled. See the <a href=\"https://ipywidgets.readthedocs.io/en/stable/user_install.html\">Jupyter\n",
       "  Widgets Documentation</a> for setup instructions.\n",
       "</p>\n",
       "<p>\n",
       "  If you're reading this message in another frontend (for example, a static\n",
       "  rendering on GitHub or <a href=\"https://nbviewer.jupyter.org/\">NBViewer</a>),\n",
       "  it may mean that your frontend doesn't currently support widgets.\n",
       "</p>\n"
      ],
      "text/plain": [
       "HBox(children=(IntProgress(value=0, max=10), HTML(value='')))"
      ]
     },
     "metadata": {},
     "output_type": "display_data"
    },
    {
     "data": {
      "application/vnd.jupyter.widget-view+json": {
       "model_id": "aa9f96ea895d43588906d28edd6258bd",
       "version_major": 2,
       "version_minor": 0
      },
      "text/html": [
       "<p>Failed to display Jupyter Widget of type <code>HBox</code>.</p>\n",
       "<p>\n",
       "  If you're reading this message in the Jupyter Notebook or JupyterLab Notebook, it may mean\n",
       "  that the widgets JavaScript is still loading. If this message persists, it\n",
       "  likely means that the widgets JavaScript library is either not installed or\n",
       "  not enabled. See the <a href=\"https://ipywidgets.readthedocs.io/en/stable/user_install.html\">Jupyter\n",
       "  Widgets Documentation</a> for setup instructions.\n",
       "</p>\n",
       "<p>\n",
       "  If you're reading this message in another frontend (for example, a static\n",
       "  rendering on GitHub or <a href=\"https://nbviewer.jupyter.org/\">NBViewer</a>),\n",
       "  it may mean that your frontend doesn't currently support widgets.\n",
       "</p>\n"
      ],
      "text/plain": [
       "HBox(children=(IntProgress(value=0, max=500), HTML(value='')))"
      ]
     },
     "metadata": {},
     "output_type": "display_data"
    },
    {
     "name": "stdout",
     "output_type": "stream",
     "text": [
      "Train - Loss:1.52, Acc:0.45\n"
     ]
    },
    {
     "data": {
      "application/vnd.jupyter.widget-view+json": {
       "model_id": "f2f10d72337443a7b1d0e67ebbefa02a",
       "version_major": 2,
       "version_minor": 0
      },
      "text/html": [
       "<p>Failed to display Jupyter Widget of type <code>HBox</code>.</p>\n",
       "<p>\n",
       "  If you're reading this message in the Jupyter Notebook or JupyterLab Notebook, it may mean\n",
       "  that the widgets JavaScript is still loading. If this message persists, it\n",
       "  likely means that the widgets JavaScript library is either not installed or\n",
       "  not enabled. See the <a href=\"https://ipywidgets.readthedocs.io/en/stable/user_install.html\">Jupyter\n",
       "  Widgets Documentation</a> for setup instructions.\n",
       "</p>\n",
       "<p>\n",
       "  If you're reading this message in another frontend (for example, a static\n",
       "  rendering on GitHub or <a href=\"https://nbviewer.jupyter.org/\">NBViewer</a>),\n",
       "  it may mean that your frontend doesn't currently support widgets.\n",
       "</p>\n"
      ],
      "text/plain": [
       "HBox(children=(IntProgress(value=0, max=2500), HTML(value='')))"
      ]
     },
     "metadata": {},
     "output_type": "display_data"
    },
    {
     "name": "stdout",
     "output_type": "stream",
     "text": [
      "Valid - Loss:1.97, Acc:0.37\n"
     ]
    },
    {
     "data": {
      "application/vnd.jupyter.widget-view+json": {
       "model_id": "8885ea68668b460cb7ba8cd2d891f917",
       "version_major": 2,
       "version_minor": 0
      },
      "text/html": [
       "<p>Failed to display Jupyter Widget of type <code>HBox</code>.</p>\n",
       "<p>\n",
       "  If you're reading this message in the Jupyter Notebook or JupyterLab Notebook, it may mean\n",
       "  that the widgets JavaScript is still loading. If this message persists, it\n",
       "  likely means that the widgets JavaScript library is either not installed or\n",
       "  not enabled. See the <a href=\"https://ipywidgets.readthedocs.io/en/stable/user_install.html\">Jupyter\n",
       "  Widgets Documentation</a> for setup instructions.\n",
       "</p>\n",
       "<p>\n",
       "  If you're reading this message in another frontend (for example, a static\n",
       "  rendering on GitHub or <a href=\"https://nbviewer.jupyter.org/\">NBViewer</a>),\n",
       "  it may mean that your frontend doesn't currently support widgets.\n",
       "</p>\n"
      ],
      "text/plain": [
       "HBox(children=(IntProgress(value=0, max=500), HTML(value='')))"
      ]
     },
     "metadata": {},
     "output_type": "display_data"
    },
    {
     "name": "stdout",
     "output_type": "stream",
     "text": [
      "Train - Loss:1.18, Acc:0.58\n"
     ]
    },
    {
     "data": {
      "application/vnd.jupyter.widget-view+json": {
       "model_id": "c86ce9ac0e214706aab65567a244ff31",
       "version_major": 2,
       "version_minor": 0
      },
      "text/html": [
       "<p>Failed to display Jupyter Widget of type <code>HBox</code>.</p>\n",
       "<p>\n",
       "  If you're reading this message in the Jupyter Notebook or JupyterLab Notebook, it may mean\n",
       "  that the widgets JavaScript is still loading. If this message persists, it\n",
       "  likely means that the widgets JavaScript library is either not installed or\n",
       "  not enabled. See the <a href=\"https://ipywidgets.readthedocs.io/en/stable/user_install.html\">Jupyter\n",
       "  Widgets Documentation</a> for setup instructions.\n",
       "</p>\n",
       "<p>\n",
       "  If you're reading this message in another frontend (for example, a static\n",
       "  rendering on GitHub or <a href=\"https://nbviewer.jupyter.org/\">NBViewer</a>),\n",
       "  it may mean that your frontend doesn't currently support widgets.\n",
       "</p>\n"
      ],
      "text/plain": [
       "HBox(children=(IntProgress(value=0, max=2500), HTML(value='')))"
      ]
     },
     "metadata": {},
     "output_type": "display_data"
    },
    {
     "name": "stdout",
     "output_type": "stream",
     "text": [
      "Valid - Loss:1.92, Acc:0.41\n"
     ]
    },
    {
     "data": {
      "application/vnd.jupyter.widget-view+json": {
       "model_id": "b27ef788326a4e5b9c6a854c11bfaff3",
       "version_major": 2,
       "version_minor": 0
      },
      "text/html": [
       "<p>Failed to display Jupyter Widget of type <code>HBox</code>.</p>\n",
       "<p>\n",
       "  If you're reading this message in the Jupyter Notebook or JupyterLab Notebook, it may mean\n",
       "  that the widgets JavaScript is still loading. If this message persists, it\n",
       "  likely means that the widgets JavaScript library is either not installed or\n",
       "  not enabled. See the <a href=\"https://ipywidgets.readthedocs.io/en/stable/user_install.html\">Jupyter\n",
       "  Widgets Documentation</a> for setup instructions.\n",
       "</p>\n",
       "<p>\n",
       "  If you're reading this message in another frontend (for example, a static\n",
       "  rendering on GitHub or <a href=\"https://nbviewer.jupyter.org/\">NBViewer</a>),\n",
       "  it may mean that your frontend doesn't currently support widgets.\n",
       "</p>\n"
      ],
      "text/plain": [
       "HBox(children=(IntProgress(value=0, max=500), HTML(value='')))"
      ]
     },
     "metadata": {},
     "output_type": "display_data"
    },
    {
     "name": "stdout",
     "output_type": "stream",
     "text": [
      "Train - Loss:1.03, Acc:0.64\n"
     ]
    },
    {
     "data": {
      "application/vnd.jupyter.widget-view+json": {
       "model_id": "852b7f4a5e61408286dffcda802617df",
       "version_major": 2,
       "version_minor": 0
      },
      "text/html": [
       "<p>Failed to display Jupyter Widget of type <code>HBox</code>.</p>\n",
       "<p>\n",
       "  If you're reading this message in the Jupyter Notebook or JupyterLab Notebook, it may mean\n",
       "  that the widgets JavaScript is still loading. If this message persists, it\n",
       "  likely means that the widgets JavaScript library is either not installed or\n",
       "  not enabled. See the <a href=\"https://ipywidgets.readthedocs.io/en/stable/user_install.html\">Jupyter\n",
       "  Widgets Documentation</a> for setup instructions.\n",
       "</p>\n",
       "<p>\n",
       "  If you're reading this message in another frontend (for example, a static\n",
       "  rendering on GitHub or <a href=\"https://nbviewer.jupyter.org/\">NBViewer</a>),\n",
       "  it may mean that your frontend doesn't currently support widgets.\n",
       "</p>\n"
      ],
      "text/plain": [
       "HBox(children=(IntProgress(value=0, max=2500), HTML(value='')))"
      ]
     },
     "metadata": {},
     "output_type": "display_data"
    },
    {
     "name": "stdout",
     "output_type": "stream",
     "text": [
      "Valid - Loss:1.90, Acc:0.42\n"
     ]
    },
    {
     "data": {
      "application/vnd.jupyter.widget-view+json": {
       "model_id": "395bb6070e684958a93f61e555312d6d",
       "version_major": 2,
       "version_minor": 0
      },
      "text/html": [
       "<p>Failed to display Jupyter Widget of type <code>HBox</code>.</p>\n",
       "<p>\n",
       "  If you're reading this message in the Jupyter Notebook or JupyterLab Notebook, it may mean\n",
       "  that the widgets JavaScript is still loading. If this message persists, it\n",
       "  likely means that the widgets JavaScript library is either not installed or\n",
       "  not enabled. See the <a href=\"https://ipywidgets.readthedocs.io/en/stable/user_install.html\">Jupyter\n",
       "  Widgets Documentation</a> for setup instructions.\n",
       "</p>\n",
       "<p>\n",
       "  If you're reading this message in another frontend (for example, a static\n",
       "  rendering on GitHub or <a href=\"https://nbviewer.jupyter.org/\">NBViewer</a>),\n",
       "  it may mean that your frontend doesn't currently support widgets.\n",
       "</p>\n"
      ],
      "text/plain": [
       "HBox(children=(IntProgress(value=0, max=500), HTML(value='')))"
      ]
     },
     "metadata": {},
     "output_type": "display_data"
    },
    {
     "name": "stdout",
     "output_type": "stream",
     "text": [
      "Train - Loss:0.91, Acc:0.69\n"
     ]
    },
    {
     "data": {
      "application/vnd.jupyter.widget-view+json": {
       "model_id": "3cfae79e2282431987644590e24be754",
       "version_major": 2,
       "version_minor": 0
      },
      "text/html": [
       "<p>Failed to display Jupyter Widget of type <code>HBox</code>.</p>\n",
       "<p>\n",
       "  If you're reading this message in the Jupyter Notebook or JupyterLab Notebook, it may mean\n",
       "  that the widgets JavaScript is still loading. If this message persists, it\n",
       "  likely means that the widgets JavaScript library is either not installed or\n",
       "  not enabled. See the <a href=\"https://ipywidgets.readthedocs.io/en/stable/user_install.html\">Jupyter\n",
       "  Widgets Documentation</a> for setup instructions.\n",
       "</p>\n",
       "<p>\n",
       "  If you're reading this message in another frontend (for example, a static\n",
       "  rendering on GitHub or <a href=\"https://nbviewer.jupyter.org/\">NBViewer</a>),\n",
       "  it may mean that your frontend doesn't currently support widgets.\n",
       "</p>\n"
      ],
      "text/plain": [
       "HBox(children=(IntProgress(value=0, max=2500), HTML(value='')))"
      ]
     },
     "metadata": {},
     "output_type": "display_data"
    },
    {
     "name": "stdout",
     "output_type": "stream",
     "text": [
      "Valid - Loss:1.82, Acc:0.44\n"
     ]
    },
    {
     "data": {
      "application/vnd.jupyter.widget-view+json": {
       "model_id": "1fdb5c0d92db412586e4295a2a478284",
       "version_major": 2,
       "version_minor": 0
      },
      "text/html": [
       "<p>Failed to display Jupyter Widget of type <code>HBox</code>.</p>\n",
       "<p>\n",
       "  If you're reading this message in the Jupyter Notebook or JupyterLab Notebook, it may mean\n",
       "  that the widgets JavaScript is still loading. If this message persists, it\n",
       "  likely means that the widgets JavaScript library is either not installed or\n",
       "  not enabled. See the <a href=\"https://ipywidgets.readthedocs.io/en/stable/user_install.html\">Jupyter\n",
       "  Widgets Documentation</a> for setup instructions.\n",
       "</p>\n",
       "<p>\n",
       "  If you're reading this message in another frontend (for example, a static\n",
       "  rendering on GitHub or <a href=\"https://nbviewer.jupyter.org/\">NBViewer</a>),\n",
       "  it may mean that your frontend doesn't currently support widgets.\n",
       "</p>\n"
      ],
      "text/plain": [
       "HBox(children=(IntProgress(value=0, max=500), HTML(value='')))"
      ]
     },
     "metadata": {},
     "output_type": "display_data"
    },
    {
     "name": "stdout",
     "output_type": "stream",
     "text": [
      "Train - Loss:0.82, Acc:0.72\n"
     ]
    },
    {
     "data": {
      "application/vnd.jupyter.widget-view+json": {
       "model_id": "6eae1f3d48ab456191ea4a64abbe7b9c",
       "version_major": 2,
       "version_minor": 0
      },
      "text/html": [
       "<p>Failed to display Jupyter Widget of type <code>HBox</code>.</p>\n",
       "<p>\n",
       "  If you're reading this message in the Jupyter Notebook or JupyterLab Notebook, it may mean\n",
       "  that the widgets JavaScript is still loading. If this message persists, it\n",
       "  likely means that the widgets JavaScript library is either not installed or\n",
       "  not enabled. See the <a href=\"https://ipywidgets.readthedocs.io/en/stable/user_install.html\">Jupyter\n",
       "  Widgets Documentation</a> for setup instructions.\n",
       "</p>\n",
       "<p>\n",
       "  If you're reading this message in another frontend (for example, a static\n",
       "  rendering on GitHub or <a href=\"https://nbviewer.jupyter.org/\">NBViewer</a>),\n",
       "  it may mean that your frontend doesn't currently support widgets.\n",
       "</p>\n"
      ],
      "text/plain": [
       "HBox(children=(IntProgress(value=0, max=2500), HTML(value='')))"
      ]
     },
     "metadata": {},
     "output_type": "display_data"
    },
    {
     "name": "stdout",
     "output_type": "stream",
     "text": [
      "Valid - Loss:1.91, Acc:0.45\n"
     ]
    },
    {
     "data": {
      "application/vnd.jupyter.widget-view+json": {
       "model_id": "7c0ab5f3a93e427d978ff5a03977bc73",
       "version_major": 2,
       "version_minor": 0
      },
      "text/html": [
       "<p>Failed to display Jupyter Widget of type <code>HBox</code>.</p>\n",
       "<p>\n",
       "  If you're reading this message in the Jupyter Notebook or JupyterLab Notebook, it may mean\n",
       "  that the widgets JavaScript is still loading. If this message persists, it\n",
       "  likely means that the widgets JavaScript library is either not installed or\n",
       "  not enabled. See the <a href=\"https://ipywidgets.readthedocs.io/en/stable/user_install.html\">Jupyter\n",
       "  Widgets Documentation</a> for setup instructions.\n",
       "</p>\n",
       "<p>\n",
       "  If you're reading this message in another frontend (for example, a static\n",
       "  rendering on GitHub or <a href=\"https://nbviewer.jupyter.org/\">NBViewer</a>),\n",
       "  it may mean that your frontend doesn't currently support widgets.\n",
       "</p>\n"
      ],
      "text/plain": [
       "HBox(children=(IntProgress(value=0, max=500), HTML(value='')))"
      ]
     },
     "metadata": {},
     "output_type": "display_data"
    },
    {
     "name": "stdout",
     "output_type": "stream",
     "text": [
      "Train - Loss:0.76, Acc:0.74\n"
     ]
    },
    {
     "data": {
      "application/vnd.jupyter.widget-view+json": {
       "model_id": "8c1b52fdda1b4cdf8d1d6a569b5796b4",
       "version_major": 2,
       "version_minor": 0
      },
      "text/html": [
       "<p>Failed to display Jupyter Widget of type <code>HBox</code>.</p>\n",
       "<p>\n",
       "  If you're reading this message in the Jupyter Notebook or JupyterLab Notebook, it may mean\n",
       "  that the widgets JavaScript is still loading. If this message persists, it\n",
       "  likely means that the widgets JavaScript library is either not installed or\n",
       "  not enabled. See the <a href=\"https://ipywidgets.readthedocs.io/en/stable/user_install.html\">Jupyter\n",
       "  Widgets Documentation</a> for setup instructions.\n",
       "</p>\n",
       "<p>\n",
       "  If you're reading this message in another frontend (for example, a static\n",
       "  rendering on GitHub or <a href=\"https://nbviewer.jupyter.org/\">NBViewer</a>),\n",
       "  it may mean that your frontend doesn't currently support widgets.\n",
       "</p>\n"
      ],
      "text/plain": [
       "HBox(children=(IntProgress(value=0, max=2500), HTML(value='')))"
      ]
     },
     "metadata": {},
     "output_type": "display_data"
    },
    {
     "name": "stdout",
     "output_type": "stream",
     "text": [
      "Valid - Loss:1.86, Acc:0.46\n"
     ]
    },
    {
     "data": {
      "application/vnd.jupyter.widget-view+json": {
       "model_id": "d8eea89a62ee46679130536de11bec69",
       "version_major": 2,
       "version_minor": 0
      },
      "text/html": [
       "<p>Failed to display Jupyter Widget of type <code>HBox</code>.</p>\n",
       "<p>\n",
       "  If you're reading this message in the Jupyter Notebook or JupyterLab Notebook, it may mean\n",
       "  that the widgets JavaScript is still loading. If this message persists, it\n",
       "  likely means that the widgets JavaScript library is either not installed or\n",
       "  not enabled. See the <a href=\"https://ipywidgets.readthedocs.io/en/stable/user_install.html\">Jupyter\n",
       "  Widgets Documentation</a> for setup instructions.\n",
       "</p>\n",
       "<p>\n",
       "  If you're reading this message in another frontend (for example, a static\n",
       "  rendering on GitHub or <a href=\"https://nbviewer.jupyter.org/\">NBViewer</a>),\n",
       "  it may mean that your frontend doesn't currently support widgets.\n",
       "</p>\n"
      ],
      "text/plain": [
       "HBox(children=(IntProgress(value=0, max=500), HTML(value='')))"
      ]
     },
     "metadata": {},
     "output_type": "display_data"
    },
    {
     "name": "stdout",
     "output_type": "stream",
     "text": [
      "Train - Loss:0.69, Acc:0.77\n"
     ]
    },
    {
     "data": {
      "application/vnd.jupyter.widget-view+json": {
       "model_id": "72f13a200de947b794c9e52e04b2c655",
       "version_major": 2,
       "version_minor": 0
      },
      "text/html": [
       "<p>Failed to display Jupyter Widget of type <code>HBox</code>.</p>\n",
       "<p>\n",
       "  If you're reading this message in the Jupyter Notebook or JupyterLab Notebook, it may mean\n",
       "  that the widgets JavaScript is still loading. If this message persists, it\n",
       "  likely means that the widgets JavaScript library is either not installed or\n",
       "  not enabled. See the <a href=\"https://ipywidgets.readthedocs.io/en/stable/user_install.html\">Jupyter\n",
       "  Widgets Documentation</a> for setup instructions.\n",
       "</p>\n",
       "<p>\n",
       "  If you're reading this message in another frontend (for example, a static\n",
       "  rendering on GitHub or <a href=\"https://nbviewer.jupyter.org/\">NBViewer</a>),\n",
       "  it may mean that your frontend doesn't currently support widgets.\n",
       "</p>\n"
      ],
      "text/plain": [
       "HBox(children=(IntProgress(value=0, max=2500), HTML(value='')))"
      ]
     },
     "metadata": {},
     "output_type": "display_data"
    },
    {
     "name": "stdout",
     "output_type": "stream",
     "text": [
      "Valid - Loss:1.92, Acc:0.48\n"
     ]
    },
    {
     "data": {
      "application/vnd.jupyter.widget-view+json": {
       "model_id": "0213af4ee86a4128b2f8d7b0722fe57f",
       "version_major": 2,
       "version_minor": 0
      },
      "text/html": [
       "<p>Failed to display Jupyter Widget of type <code>HBox</code>.</p>\n",
       "<p>\n",
       "  If you're reading this message in the Jupyter Notebook or JupyterLab Notebook, it may mean\n",
       "  that the widgets JavaScript is still loading. If this message persists, it\n",
       "  likely means that the widgets JavaScript library is either not installed or\n",
       "  not enabled. See the <a href=\"https://ipywidgets.readthedocs.io/en/stable/user_install.html\">Jupyter\n",
       "  Widgets Documentation</a> for setup instructions.\n",
       "</p>\n",
       "<p>\n",
       "  If you're reading this message in another frontend (for example, a static\n",
       "  rendering on GitHub or <a href=\"https://nbviewer.jupyter.org/\">NBViewer</a>),\n",
       "  it may mean that your frontend doesn't currently support widgets.\n",
       "</p>\n"
      ],
      "text/plain": [
       "HBox(children=(IntProgress(value=0, max=500), HTML(value='')))"
      ]
     },
     "metadata": {},
     "output_type": "display_data"
    },
    {
     "ename": "KeyboardInterrupt",
     "evalue": "",
     "output_type": "error",
     "traceback": [
      "\u001b[0;31m---------------------------------------------------------------------------\u001b[0m",
      "\u001b[0;31mKeyboardInterrupt\u001b[0m                         Traceback (most recent call last)",
      "\u001b[0;32m<ipython-input-44-4574de12d9ea>\u001b[0m in \u001b[0;36m<module>\u001b[0;34m()\u001b[0m\n\u001b[1;32m      1\u001b[0m \u001b[0;31m# 8 sample\u001b[0m\u001b[0;34m\u001b[0m\u001b[0;34m\u001b[0m\u001b[0;34m\u001b[0m\u001b[0m\n\u001b[0;32m----> 2\u001b[0;31m \u001b[0mhistory_8\u001b[0m \u001b[0;34m=\u001b[0m \u001b[0mfit\u001b[0m\u001b[0;34m(\u001b[0m\u001b[0mtrainloader\u001b[0m\u001b[0;34m,\u001b[0m\u001b[0mtestloader\u001b[0m\u001b[0;34m,\u001b[0m \u001b[0;36m10\u001b[0m\u001b[0;34m,\u001b[0m  \u001b[0mdrp_sample\u001b[0m\u001b[0;34m=\u001b[0m\u001b[0;36m8\u001b[0m\u001b[0;34m)\u001b[0m\u001b[0;34m\u001b[0m\u001b[0;34m\u001b[0m\u001b[0m\n\u001b[0m",
      "\u001b[0;32m<ipython-input-43-27ce02c4a9b1>\u001b[0m in \u001b[0;36mfit\u001b[0;34m(train_loader, eval_dl, epochs, drp_sample)\u001b[0m\n\u001b[1;32m      4\u001b[0m \u001b[0;34m\u001b[0m\u001b[0m\n\u001b[1;32m      5\u001b[0m     \u001b[0;32mfor\u001b[0m \u001b[0mep\u001b[0m \u001b[0;32min\u001b[0m \u001b[0mtnrange\u001b[0m\u001b[0;34m(\u001b[0m\u001b[0mepochs\u001b[0m\u001b[0;34m)\u001b[0m\u001b[0;34m:\u001b[0m\u001b[0;34m\u001b[0m\u001b[0;34m\u001b[0m\u001b[0m\n\u001b[0;32m----> 6\u001b[0;31m         \u001b[0macc_ep\u001b[0m\u001b[0;34m,\u001b[0m \u001b[0mloss_ep\u001b[0m \u001b[0;34m=\u001b[0m \u001b[0mtrain_epoch\u001b[0m\u001b[0;34m(\u001b[0m\u001b[0mtrain_loader\u001b[0m\u001b[0;34m,\u001b[0m \u001b[0mdrp_sample\u001b[0m\u001b[0;34m)\u001b[0m\u001b[0;34m\u001b[0m\u001b[0;34m\u001b[0m\u001b[0m\n\u001b[0m\u001b[1;32m      7\u001b[0m         \u001b[0mtr_acc\u001b[0m\u001b[0;34m.\u001b[0m\u001b[0mextend\u001b[0m\u001b[0;34m(\u001b[0m\u001b[0macc_ep\u001b[0m\u001b[0;34m)\u001b[0m\u001b[0;34m\u001b[0m\u001b[0;34m\u001b[0m\u001b[0m\n\u001b[1;32m      8\u001b[0m         \u001b[0mtr_loss\u001b[0m\u001b[0;34m.\u001b[0m\u001b[0mextend\u001b[0m\u001b[0;34m(\u001b[0m\u001b[0mloss_ep\u001b[0m\u001b[0;34m)\u001b[0m\u001b[0;34m\u001b[0m\u001b[0;34m\u001b[0m\u001b[0m\n",
      "\u001b[0;32m<ipython-input-41-4b30ee2c2582>\u001b[0m in \u001b[0;36mtrain_epoch\u001b[0;34m(train_loader, drp_sample)\u001b[0m\n\u001b[1;32m     20\u001b[0m \u001b[0;34m\u001b[0m\u001b[0m\n\u001b[1;32m     21\u001b[0m \u001b[0;34m\u001b[0m\u001b[0m\n\u001b[0;32m---> 22\u001b[0;31m         \u001b[0mloss\u001b[0m\u001b[0;34m.\u001b[0m\u001b[0mbackward\u001b[0m\u001b[0;34m(\u001b[0m\u001b[0;34m)\u001b[0m \u001b[0;31m# Compute gradients\u001b[0m\u001b[0;34m\u001b[0m\u001b[0;34m\u001b[0m\u001b[0m\n\u001b[0m\u001b[1;32m     23\u001b[0m         \u001b[0moptimiser\u001b[0m\u001b[0;34m.\u001b[0m\u001b[0mstep\u001b[0m\u001b[0;34m(\u001b[0m\u001b[0;34m)\u001b[0m \u001b[0;31m# update parametrs\u001b[0m\u001b[0;34m\u001b[0m\u001b[0;34m\u001b[0m\u001b[0m\n\u001b[1;32m     24\u001b[0m \u001b[0;34m\u001b[0m\u001b[0m\n",
      "\u001b[0;32m~/anaconda3/lib/python3.6/site-packages/torch/tensor.py\u001b[0m in \u001b[0;36mbackward\u001b[0;34m(self, gradient, retain_graph, create_graph)\u001b[0m\n\u001b[1;32m    105\u001b[0m                 \u001b[0mproducts\u001b[0m\u001b[0;34m.\u001b[0m \u001b[0mDefaults\u001b[0m \u001b[0mto\u001b[0m\u001b[0;31m \u001b[0m\u001b[0;31m`\u001b[0m\u001b[0;31m`\u001b[0m\u001b[0;32mFalse\u001b[0m\u001b[0;31m`\u001b[0m\u001b[0;31m`\u001b[0m\u001b[0;34m.\u001b[0m\u001b[0;34m\u001b[0m\u001b[0;34m\u001b[0m\u001b[0m\n\u001b[1;32m    106\u001b[0m         \"\"\"\n\u001b[0;32m--> 107\u001b[0;31m         \u001b[0mtorch\u001b[0m\u001b[0;34m.\u001b[0m\u001b[0mautograd\u001b[0m\u001b[0;34m.\u001b[0m\u001b[0mbackward\u001b[0m\u001b[0;34m(\u001b[0m\u001b[0mself\u001b[0m\u001b[0;34m,\u001b[0m \u001b[0mgradient\u001b[0m\u001b[0;34m,\u001b[0m \u001b[0mretain_graph\u001b[0m\u001b[0;34m,\u001b[0m \u001b[0mcreate_graph\u001b[0m\u001b[0;34m)\u001b[0m\u001b[0;34m\u001b[0m\u001b[0;34m\u001b[0m\u001b[0m\n\u001b[0m\u001b[1;32m    108\u001b[0m \u001b[0;34m\u001b[0m\u001b[0m\n\u001b[1;32m    109\u001b[0m     \u001b[0;32mdef\u001b[0m \u001b[0mregister_hook\u001b[0m\u001b[0;34m(\u001b[0m\u001b[0mself\u001b[0m\u001b[0;34m,\u001b[0m \u001b[0mhook\u001b[0m\u001b[0;34m)\u001b[0m\u001b[0;34m:\u001b[0m\u001b[0;34m\u001b[0m\u001b[0;34m\u001b[0m\u001b[0m\n",
      "\u001b[0;32m~/anaconda3/lib/python3.6/site-packages/torch/autograd/__init__.py\u001b[0m in \u001b[0;36mbackward\u001b[0;34m(tensors, grad_tensors, retain_graph, create_graph, grad_variables)\u001b[0m\n\u001b[1;32m     91\u001b[0m     Variable._execution_engine.run_backward(\n\u001b[1;32m     92\u001b[0m         \u001b[0mtensors\u001b[0m\u001b[0;34m,\u001b[0m \u001b[0mgrad_tensors\u001b[0m\u001b[0;34m,\u001b[0m \u001b[0mretain_graph\u001b[0m\u001b[0;34m,\u001b[0m \u001b[0mcreate_graph\u001b[0m\u001b[0;34m,\u001b[0m\u001b[0;34m\u001b[0m\u001b[0;34m\u001b[0m\u001b[0m\n\u001b[0;32m---> 93\u001b[0;31m         allow_unreachable=True)  # allow_unreachable flag\n\u001b[0m\u001b[1;32m     94\u001b[0m \u001b[0;34m\u001b[0m\u001b[0m\n\u001b[1;32m     95\u001b[0m \u001b[0;34m\u001b[0m\u001b[0m\n",
      "\u001b[0;31mKeyboardInterrupt\u001b[0m: "
     ]
    }
   ],
   "source": [
    "# 8 sample\n",
    "history_8 = fit(trainloader,testloader, 10,  drp_sample=8)"
   ]
  },
  {
   "cell_type": "code",
   "execution_count": 127,
   "metadata": {},
   "outputs": [],
   "source": [
    "loss_8, acc_8 = history_8"
   ]
  },
  {
   "cell_type": "code",
   "execution_count": 137,
   "metadata": {
    "collapsed": true
   },
   "outputs": [
    {
     "name": "stdout",
     "output_type": "stream",
     "text": [
      "CPU times: user 5 µs, sys: 0 ns, total: 5 µs\n",
      "Wall time: 10.7 µs\n",
      "Train - Loss:2.32, Acc:0.10\n",
      "Train - Loss:2.32, Acc:0.10\n",
      "Train - Loss:2.32, Acc:0.10\n",
      "Train - Loss:2.32, Acc:0.10\n",
      "Train - Loss:2.32, Acc:0.10\n"
     ]
    }
   ],
   "source": [
    "# 8 samples\n",
    "history_16 = fit(trainloader,testloader, 10, drp_sample=16)"
   ]
  },
  {
   "cell_type": "code",
   "execution_count": null,
   "metadata": {},
   "outputs": [],
   "source": []
  }
 ],
 "metadata": {
  "kernelspec": {
   "display_name": "Python 3",
   "language": "python",
   "name": "python3"
  },
  "language_info": {
   "codemirror_mode": {
    "name": "ipython",
    "version": 3
   },
   "file_extension": ".py",
   "mimetype": "text/x-python",
   "name": "python",
   "nbconvert_exporter": "python",
   "pygments_lexer": "ipython3",
   "version": "3.6.8"
  }
 },
 "nbformat": 4,
 "nbformat_minor": 2
}
